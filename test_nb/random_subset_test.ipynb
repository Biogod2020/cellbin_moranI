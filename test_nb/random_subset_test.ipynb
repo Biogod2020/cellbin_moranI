{
 "cells": [
  {
   "cell_type": "code",
   "execution_count": null,
   "id": "29230823-9260-4f35-af1e-9ada55c835a0",
   "metadata": {
    "execution": {
     "iopub.execute_input": "2024-05-19T14:23:38.087661Z",
     "iopub.status.busy": "2024-05-19T14:23:38.087201Z"
    },
    "scrolled": true
   },
   "outputs": [],
   "source": [
    "import scanpy as sc\n",
    "import cellbin_moran as cm\n",
    "import squidpy as sq\n",
    "import anndata as ad\n",
    "import pandas as pd\n",
    "import numpy as np\n",
    "import matplotlib.pyplot as plt\n",
    "import seaborn as sns\n",
    "import os\n",
    "from concurrent.futures import ProcessPoolExecutor, ThreadPoolExecutor, as_completed\n",
    "\n",
    "# Scanpy Settings\n",
    "sc.logging.print_versions()\n",
    "sc.set_figure_params(facecolor=\"white\", figsize=(8, 8))\n",
    "sc.settings.verbosity = 3"
   ]
  },
  {
   "cell_type": "code",
   "execution_count": 7,
   "id": "2f91ae7b-dd74-4e03-8ca9-d30fdee030f6",
   "metadata": {
    "execution": {
     "iopub.execute_input": "2024-05-19T16:20:58.891980Z",
     "iopub.status.busy": "2024-05-19T16:20:58.891149Z",
     "iopub.status.idle": "2024-05-19T16:20:58.901478Z",
     "shell.execute_reply": "2024-05-19T16:20:58.900233Z",
     "shell.execute_reply.started": "2024-05-19T16:20:58.891929Z"
    },
    "scrolled": true
   },
   "outputs": [
    {
     "data": {
      "text/plain": [
       "['__builtins__',\n",
       " '__cached__',\n",
       " '__doc__',\n",
       " '__file__',\n",
       " '__loader__',\n",
       " '__name__',\n",
       " '__package__',\n",
       " '__path__',\n",
       " '__spec__',\n",
       " 'analysis',\n",
       " 'compute_moranI',\n",
       " 'concatenate_and_intersect',\n",
       " 'hierarchical_sample',\n",
       " 'io',\n",
       " 'list_files_matching_criteria',\n",
       " 'load_data_in_parallel',\n",
       " 'load_sct_and_set_index',\n",
       " 'subset_anndata']"
      ]
     },
     "execution_count": 7,
     "metadata": {},
     "output_type": "execute_result"
    }
   ],
   "source": [
    "dir(cm)"
   ]
  },
  {
   "cell_type": "code",
   "execution_count": null,
   "id": "e56dac86-868f-4d75-ab12-478921a893da",
   "metadata": {},
   "outputs": [],
   "source": [
    "month = \"01\"\n",
    "\n",
    "# Reusing the previously defined functions:\n",
    "cellbin_dir = \"/public/home/jijh/st_project/cellbin_analysis/annotated_cell_bins/sct_cellbin_h5ad\"\n",
    "meta_dir = \"/public/home/jijh/st_project/cellbin_analysis/annotated_cell_bins/region_meta/\"\n",
    "\n",
    "# Use the function to list and filter files of interest\n",
    "cellbin_paths = cm.list_files_matching_criteria(cellbin_dir, month)\n",
    "meta_paths = cm.list_files_matching_criteria(meta_dir, month)\n",
    "\n",
    "\n",
    "cellbin_paths"
   ]
  },
  {
   "cell_type": "code",
   "execution_count": 11,
   "id": "630f0a39-50fe-4189-a89e-78c14f024699",
   "metadata": {
    "execution": {
     "iopub.execute_input": "2024-05-19T16:22:30.313547Z",
     "iopub.status.busy": "2024-05-19T16:22:30.312967Z",
     "iopub.status.idle": "2024-05-19T16:26:35.447167Z",
     "shell.execute_reply": "2024-05-19T16:26:35.445191Z",
     "shell.execute_reply.started": "2024-05-19T16:22:30.313517Z"
    }
   },
   "outputs": [],
   "source": [
    "# Load data in parallel from paths\n",
    "cellbin_data = cm.load_data_in_parallel(cellbin_paths, cm.load_sct_and_set_index)\n",
    "for key in cellbin_data:\n",
    "    cellbin_data[key].obs[\"datatype\"] = \"cellbin\""
   ]
  },
  {
   "cell_type": "code",
   "execution_count": 12,
   "id": "40e4c062-aed9-437b-b19a-cc9b68f5f884",
   "metadata": {
    "execution": {
     "iopub.execute_input": "2024-05-19T16:27:46.921143Z",
     "iopub.status.busy": "2024-05-19T16:27:46.920410Z",
     "iopub.status.idle": "2024-05-19T16:27:46.930324Z",
     "shell.execute_reply": "2024-05-19T16:27:46.929327Z",
     "shell.execute_reply.started": "2024-05-19T16:27:46.921104Z"
    }
   },
   "outputs": [
    {
     "data": {
      "text/plain": [
       "{'HZ12M01_sct_counts': AnnData object with n_obs × n_vars = 119456 × 3000\n",
       "     obs: 'total_counts', 'n_genes_by_counts', 'pct_counts_mt', 'orig.ident', 'x', 'y', 'fine', 'genotype', 'month', 'sample', 'slice', 'id', 'age', 'nearest_plaque', 'interval', 'min_center_dist', 'min_border_dist', 'plaque_region', 'celltype', 'nCount_SCT', 'nFeature_SCT', 'datatype'\n",
       "     var: 'features',\n",
       " 'HZ2M01_sct_counts': AnnData object with n_obs × n_vars = 115459 × 3000\n",
       "     obs: 'total_counts', 'n_genes_by_counts', 'pct_counts_mt', 'orig.ident', 'x', 'y', 'fine', 'genotype', 'month', 'sample', 'slice', 'id', 'age', 'nearest_plaque', 'interval', 'min_center_dist', 'min_border_dist', 'plaque_region', 'celltype', 'nCount_SCT', 'nFeature_SCT', 'datatype'\n",
       "     var: 'features',\n",
       " 'HZ3M01_sct_counts': AnnData object with n_obs × n_vars = 114709 × 3000\n",
       "     obs: 'total_counts', 'n_genes_by_counts', 'pct_counts_mt', 'orig.ident', 'x', 'y', 'fine', 'genotype', 'month', 'sample', 'slice', 'id', 'age', 'nearest_plaque', 'interval', 'min_center_dist', 'min_border_dist', 'plaque_region', 'celltype', 'nCount_SCT', 'nFeature_SCT', 'datatype'\n",
       "     var: 'features',\n",
       " 'HZ4MP101_sct_counts': AnnData object with n_obs × n_vars = 158274 × 3000\n",
       "     obs: 'total_counts', 'n_genes_by_counts', 'pct_counts_mt', 'orig.ident', 'x', 'y', 'fine', 'genotype', 'month', 'sample', 'slice', 'id', 'age', 'nearest_plaque', 'interval', 'min_center_dist', 'min_border_dist', 'plaque_region', 'celltype', 'nCount_SCT', 'nFeature_SCT', 'datatype'\n",
       "     var: 'features',\n",
       " 'HZ5M01_sct_counts': AnnData object with n_obs × n_vars = 150051 × 3000\n",
       "     obs: 'total_counts', 'n_genes_by_counts', 'pct_counts_mt', 'orig.ident', 'x', 'y', 'fine', 'genotype', 'month', 'sample', 'slice', 'id', 'age', 'nearest_plaque', 'interval', 'min_center_dist', 'min_border_dist', 'plaque_region', 'celltype', 'nCount_SCT', 'nFeature_SCT', 'datatype'\n",
       "     var: 'features',\n",
       " 'HZ6MP101_sct_counts': AnnData object with n_obs × n_vars = 154736 × 3000\n",
       "     obs: 'total_counts', 'n_genes_by_counts', 'pct_counts_mt', 'orig.ident', 'x', 'y', 'fine', 'genotype', 'month', 'sample', 'slice', 'id', 'age', 'nearest_plaque', 'interval', 'min_center_dist', 'min_border_dist', 'plaque_region', 'celltype', 'nCount_SCT', 'nFeature_SCT', 'datatype'\n",
       "     var: 'features',\n",
       " 'HZ8M01_sct_counts': AnnData object with n_obs × n_vars = 147053 × 3000\n",
       "     obs: 'total_counts', 'n_genes_by_counts', 'pct_counts_mt', 'orig.ident', 'x', 'y', 'fine', 'genotype', 'month', 'sample', 'slice', 'id', 'age', 'nearest_plaque', 'interval', 'min_center_dist', 'min_border_dist', 'plaque_region', 'celltype', 'nCount_SCT', 'nFeature_SCT', 'datatype'\n",
       "     var: 'features'}"
      ]
     },
     "execution_count": 12,
     "metadata": {},
     "output_type": "execute_result"
    }
   ],
   "source": [
    "cellbin_data"
   ]
  },
  {
   "cell_type": "code",
   "execution_count": null,
   "id": "ce68c164-147f-4993-a2c8-4f55f03a117d",
   "metadata": {},
   "outputs": [],
   "source": []
  },
  {
   "cell_type": "code",
   "execution_count": null,
   "id": "12bc40f4-b660-41c5-a4b7-9ad8b708ae1a",
   "metadata": {},
   "outputs": [],
   "source": []
  },
  {
   "cell_type": "code",
   "execution_count": null,
   "id": "6902ca21-5c88-4e14-bf73-6da29f6fb939",
   "metadata": {},
   "outputs": [],
   "source": []
  }
 ],
 "metadata": {
  "kernelspec": {
   "display_name": "Python 3 (ipykernel)",
   "language": "python",
   "name": "python3"
  },
  "language_info": {
   "codemirror_mode": {
    "name": "ipython",
    "version": 3
   },
   "file_extension": ".py",
   "mimetype": "text/x-python",
   "name": "python",
   "nbconvert_exporter": "python",
   "pygments_lexer": "ipython3",
   "version": "3.11.8"
  }
 },
 "nbformat": 4,
 "nbformat_minor": 5
}
