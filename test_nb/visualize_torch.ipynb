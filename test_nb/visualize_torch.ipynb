{
 "cells": [
  {
   "cell_type": "code",
   "execution_count": 2,
   "id": "123b466f-e5a6-46a5-9a3c-6cfc2a24eedc",
   "metadata": {
    "execution": {
     "iopub.execute_input": "2024-05-28T00:30:52.751964Z",
     "iopub.status.busy": "2024-05-28T00:30:52.751366Z",
     "iopub.status.idle": "2024-05-28T00:31:06.852631Z",
     "shell.execute_reply": "2024-05-28T00:31:06.851290Z",
     "shell.execute_reply.started": "2024-05-28T00:30:52.751924Z"
    }
   },
   "outputs": [],
   "source": [
    "import torch\n",
    "import torch.nn as nn\n",
    "import torch.nn.functional as F\n",
    "import numpy as np\n",
    "import anndata\n",
    "from sklearn.cluster import KMeans\n",
    "from matplotlib import pyplot as plt"
   ]
  },
  {
   "cell_type": "code",
   "execution_count": 9,
   "id": "23813e2f-26fd-4c41-af40-930fd0b7e84d",
   "metadata": {
    "execution": {
     "iopub.execute_input": "2024-05-28T00:38:23.148496Z",
     "iopub.status.busy": "2024-05-28T00:38:23.147871Z",
     "iopub.status.idle": "2024-05-28T00:38:23.168569Z",
     "shell.execute_reply": "2024-05-28T00:38:23.167342Z",
     "shell.execute_reply.started": "2024-05-28T00:38:23.148447Z"
    }
   },
   "outputs": [],
   "source": [
    "\n",
    "\n",
    "# Define GCN Layers and Model\n",
    "class GCNLayer(nn.Module):\n",
    "    def __init__(self, in_features, out_features):\n",
    "        super(GCNLayer, self).__init__()\n",
    "        self.linear = nn.Linear(in_features, out_features)\n",
    "\n",
    "    def forward(self, A, X):\n",
    "        D = torch.diag(torch.sum(A, dim=1))\n",
    "        D_sqrt_inv = torch.pow(D, -0.5)\n",
    "        D_sqrt_inv[torch.isinf(D_sqrt_inv)] = 0.0  # Handle inf values resulting from zero division\n",
    "        A_hat = torch.matmul(torch.matmul(D_sqrt_inv, A), D_sqrt_inv)\n",
    "        return F.relu(self.linear(torch.matmul(A_hat, X)))\n",
    "\n",
    "class GCN(nn.Module):\n",
    "    def __init__(self, in_features, hidden_features, out_features):\n",
    "        super(GCN, self).__init__()\n",
    "        self.gcn1 = GCNLayer(in_features, hidden_features)\n",
    "        self.gcn2 = GCNLayer(hidden_features, hidden_features)\n",
    "        self.gcn3 = GCNLayer(hidden_features, out_features)\n",
    "\n",
    "    def forward(self, A, X):\n",
    "        X = self.gcn1(A, X)\n",
    "        X = self.gcn2(A, X)\n",
    "        X = self.gcn3(A, X)\n",
    "        return X\n",
    "\n",
    "def train_gcn(gcn, A, X, epochs=200, lr=0.01):\n",
    "    optimizer = torch.optim.Adam(gcn.parameters(), lr=lr)\n",
    "    criterion = nn.MSELoss()\n",
    "    \n",
    "    for epoch in range(epochs):\n",
    "        gcn.train()\n",
    "        optimizer.zero_grad()\n",
    "        \n",
    "        embeddings = gcn(A, X)\n",
    "        reconstructed_A = torch.matmul(embeddings, embeddings.t())\n",
    "        \n",
    "        loss = criterion(reconstructed_A, A)\n",
    "        loss.backward()\n",
    "        optimizer.step()\n",
    "        \n",
    "        if epoch % 10 == 0:\n",
    "            print(f'Epoch {epoch}, Loss: {loss.item()}')\n",
    "    \n",
    "    return gcn\n",
    "\n",
    "def self_expressive_layer(Z):\n",
    "    N = Z.shape[0]\n",
    "    Q = np.zeros((N, N))\n",
    "    for i in range(N):\n",
    "        Zi = Z[i]\n",
    "        Zj = np.delete(Z, i, axis=0)\n",
    "        Q[i, np.arange(N) != i] = np.linalg.lstsq(Zj.T, Zi, rcond=None)[0]\n",
    "    return Q\n",
    "\n",
    "def community_detection(Z, num_communities):\n",
    "    Q = self_expressive_layer(Z)\n",
    "    kmeans = KMeans(n_clusters=num_communities)\n",
    "    communities = kmeans.fit_predict(Q)\n",
    "    return communities\n",
    "\n",
    "\n"
   ]
  },
  {
   "cell_type": "code",
   "execution_count": 13,
   "id": "8aeaaaf4-6b7c-4661-9dba-9da7f64b53ee",
   "metadata": {
    "execution": {
     "iopub.execute_input": "2024-05-28T00:47:03.868594Z",
     "iopub.status.busy": "2024-05-28T00:47:03.867948Z",
     "iopub.status.idle": "2024-05-28T00:47:03.881254Z",
     "shell.execute_reply": "2024-05-28T00:47:03.879872Z",
     "shell.execute_reply.started": "2024-05-28T00:47:03.868549Z"
    }
   },
   "outputs": [],
   "source": [
    "import torch\n",
    "import torch.nn as nn\n",
    "import torch.nn.functional as F\n",
    "\n",
    "class ConvLayer(nn.Module):\n",
    "    def __init__(self, in_channels, out_channels, kernel_size, stride=1, padding=1):\n",
    "        super(ConvLayer, self).__init__()\n",
    "        self.conv = nn.Conv2d(in_channels, out_channels, kernel_size, stride, padding)\n",
    "\n",
    "    def forward(self, x):\n",
    "        x = self.conv(x)\n",
    "        return F.relu(x)\n",
    "\n",
    "class CNN(nn.Module):\n",
    "    def __init__(self, in_channels, hidden_channels, out_channels, kernel_size=3):\n",
    "        super(CNN, self).__init__()\n",
    "        self.conv1 = ConvLayer(in_channels, hidden_channels, kernel_size)\n",
    "        self.conv2 = ConvLayer(hidden_channels, hidden_channels, kernel_size)\n",
    "        self.conv3 = ConvLayer(hidden_channels, out_channels, kernel_size)\n",
    "\n",
    "    def forward(self, x):\n",
    "        x = self.conv1(x)\n",
    "        x = self.conv2(x)\n",
    "        x = self.conv3(x)\n",
    "        return x\n",
    "\n",
    "\n"
   ]
  },
  {
   "cell_type": "code",
   "execution_count": 26,
   "id": "4c1bdc17-a1e9-4c68-a782-c68d1092de26",
   "metadata": {
    "execution": {
     "iopub.execute_input": "2024-05-28T00:51:24.266661Z",
     "iopub.status.busy": "2024-05-28T00:51:24.266108Z",
     "iopub.status.idle": "2024-05-28T00:51:24.281861Z",
     "shell.execute_reply": "2024-05-28T00:51:24.280526Z",
     "shell.execute_reply.started": "2024-05-28T00:51:24.266625Z"
    }
   },
   "outputs": [
    {
     "name": "stdout",
     "output_type": "stream",
     "text": [
      "CNN1D(\n",
      "  (conv1): Conv1DLayer(\n",
      "    (conv): Conv1d(1, 32, kernel_size=(3,), stride=(1,), padding=(1,))\n",
      "  )\n",
      "  (conv2): Conv1DLayer(\n",
      "    (conv): Conv1d(32, 32, kernel_size=(3,), stride=(1,), padding=(1,))\n",
      "  )\n",
      "  (conv3): Conv1DLayer(\n",
      "    (conv): Conv1d(32, 32, kernel_size=(3,), stride=(1,), padding=(1,))\n",
      "  )\n",
      ")\n"
     ]
    }
   ],
   "source": [
    "import torch\n",
    "import torch.nn as nn\n",
    "import torch.nn.functional as F\n",
    "\n",
    "class Conv1DLayer(nn.Module):\n",
    "    def __init__(self, in_channels, out_channels, kernel_size, stride=1, padding=1):\n",
    "        super(Conv1DLayer, self).__init__()\n",
    "        self.conv = nn.Conv1d(in_channels, out_channels, kernel_size, stride, padding)\n",
    "\n",
    "    def forward(self, x):\n",
    "        x = self.conv(x)\n",
    "        return F.relu(x)\n",
    "\n",
    "class CNN1D(nn.Module):\n",
    "    def __init__(self, in_channels, hidden_channels, out_channels, kernel_size=3):\n",
    "        super(CNN1D, self).__init__()\n",
    "        self.conv1 = Conv1DLayer(in_channels, hidden_channels, kernel_size)\n",
    "        self.conv2 = Conv1DLayer(hidden_channels, hidden_channels, kernel_size)\n",
    "        self.conv3 = Conv1DLayer(hidden_channels, out_channels, kernel_size)\n",
    "\n",
    "    def forward(self, x):\n",
    "        x = self.conv1(x)\n",
    "        x = self.conv2(x)\n",
    "        x = self.conv3(x)\n",
    "        return x\n",
    "\n",
    "# Example usage\n",
    "model = CNN1D(in_channels=1, hidden_channels=32, out_channels=32, kernel_size=3)\n",
    "print(model)\n"
   ]
  },
  {
   "cell_type": "code",
   "execution_count": 28,
   "id": "7e46dfaf-7d41-4a6e-b254-4321b595f921",
   "metadata": {
    "execution": {
     "iopub.execute_input": "2024-05-28T00:51:31.146518Z",
     "iopub.status.busy": "2024-05-28T00:51:31.145994Z",
     "iopub.status.idle": "2024-05-28T00:51:31.197908Z",
     "shell.execute_reply": "2024-05-28T00:51:31.196930Z",
     "shell.execute_reply.started": "2024-05-28T00:51:31.146481Z"
    }
   },
   "outputs": [
    {
     "data": {
      "image/png": "[encoded data removed]",
      "text/plain": [
       "<Figure size 640x480 with 1 Axes>"
      ]
     },
     "metadata": {},
     "output_type": "display_data"
    }
   ],
   "source": [
    "\n",
    "\n",
    "input_shape = (7257, 1, 1)\n",
    "\n",
    "img = visualtorch.layered_view(model, input_shape=input_shape, draw_volume=False, legend=True, )\n",
    "\n",
    "plt.axis(\"off\")\n",
    "plt.tight_layout()\n",
    "plt.imshow(img)\n",
    "plt.show()"
   ]
  },
  {
   "cell_type": "code",
   "execution_count": 5,
   "id": "c66a7e9d-88bd-4b8a-945e-d0f6c77c0306",
   "metadata": {
    "execution": {
     "iopub.execute_input": "2024-05-28T00:31:55.422030Z",
     "iopub.status.busy": "2024-05-28T00:31:55.421465Z",
     "iopub.status.idle": "2024-05-28T00:31:55.860925Z",
     "shell.execute_reply": "2024-05-28T00:31:55.859137Z",
     "shell.execute_reply.started": "2024-05-28T00:31:55.421984Z"
    }
   },
   "outputs": [
    {
     "name": "stdout",
     "output_type": "stream",
     "text": [
      "  Name        Active  Path                                        \n",
      "────────────────────────────────────────────────────────────────────\n",
      "                      /home1/jijh/miniconda3                      \n",
      "  base                /public/home/jijh/micromamba                \n",
      "  atac_sc             /public/home/jijh/micromamba/envs/atac_sc   \n",
      "  bypy                /public/home/jijh/micromamba/envs/bypy      \n",
      "  jupytoll            /public/home/jijh/micromamba/envs/jupytoll  \n",
      "  opencv              /public/home/jijh/micromamba/envs/opencv    \n",
      "  pytorch             /public/home/jijh/micromamba/envs/pytorch   \n",
      "  sc_batch            /public/home/jijh/micromamba/envs/sc_batch  \n",
      "  scvi_env            /public/home/jijh/micromamba/envs/scvi_env  \n",
      "  sd_test             /public/home/jijh/micromamba/envs/sd_test   \n",
      "  seurat              /public/home/jijh/micromamba/envs/seurat    \n",
      "  spateo              /public/home/jijh/micromamba/envs/spateo    \n",
      "  spatial     *       /public/home/jijh/micromamba/envs/spatial   \n",
      "  stalign             /public/home/jijh/micromamba/envs/stalign   \n",
      "  stereo              /public/home/jijh/micromamba/envs/stereo    \n",
      "  wbs_single          /public/home/jijh/micromamba/envs/wbs_single\n",
      "  zy                  /public/home/jijh/micromamba/envs/zy        \n",
      "                      /public/home/jijh/miniconda3/envs/convert   \n"
     ]
    }
   ],
   "source": [
    "!micromamba env list"
   ]
  },
  {
   "cell_type": "code",
   "execution_count": null,
   "id": "2a861dd5-5924-4350-bd89-569a4cf869ba",
   "metadata": {},
   "outputs": [],
   "source": []
  }
 ],
 "metadata": {
  "kernelspec": {
   "display_name": "Python 3 (ipykernel)",
   "language": "python",
   "name": "python3"
  },
  "language_info": {
   "codemirror_mode": {
    "name": "ipython",
    "version": 3
   },
   "file_extension": ".py",
   "mimetype": "text/x-python",
   "name": "python",
   "nbconvert_exporter": "python",
   "pygments_lexer": "ipython3",
   "version": "3.11.8"
  }
 },
 "nbformat": 4,
 "nbformat_minor": 5
}
